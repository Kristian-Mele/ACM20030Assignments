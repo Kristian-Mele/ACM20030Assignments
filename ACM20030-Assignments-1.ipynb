{
 "cells": [
  {
   "cell_type": "code",
   "execution_count": 1,
   "metadata": {},
   "outputs": [],
   "source": [
    "import numpy as np\n",
    "import matplotlib.pyplot as plt"
   ]
  },
  {
   "cell_type": "markdown",
   "metadata": {},
   "source": [
    "# Question 1\n"
   ]
  },
  {
   "cell_type": "code",
   "execution_count": 35,
   "metadata": {},
   "outputs": [
    {
     "name": "stdout",
     "output_type": "stream",
     "text": [
      "Answer for v(5,6) = 7.810\n",
      "Answer for v(-1,5) = 5.099\n",
      "\n",
      "Sin (1)= 0.841\n"
     ]
    }
   ],
   "source": [
    "# 1(a) Function of Vector Length with cartestion coordinates x and y.\n",
    "def VectorLength(x,y):\n",
    "    result = np.sqrt((x**2)+(y**2))\n",
    "    return result\n",
    "\n",
    "# 1(b) Using function to print given values for x and y\n",
    "print(\"Answer for v(5,6) = %.3f\" % VectorLength(5,6))\n",
    "print(\"Answer for v(-1,5) = %.3f\" % VectorLength(-1,5))\n",
    "\n",
    "print(\"\")\n",
    "\n",
    "# 1(c) Modifying commands \n",
    "print(\"Sin (1)= %.3f\" % np.sin(1))"
   ]
  },
  {
   "cell_type": "markdown",
   "metadata": {},
   "source": [
    "# Question 2"
   ]
  },
  {
   "cell_type": "code",
   "execution_count": 77,
   "metadata": {},
   "outputs": [
    {
     "data": {
      "text/plain": [
       "0"
      ]
     },
     "execution_count": 77,
     "metadata": {},
     "output_type": "execute_result"
    }
   ],
   "source": [
    "# Function to check if a number is prime\n",
    "def IsPrime(n):\n",
    "    i = 2\n",
    "    \n",
    "    while i < np.sqrt(n):\n",
    "        # For each i check if it divides n\n",
    "        if (n % i == 0):\n",
    "            return 0\n",
    "        i=i+1\n",
    "    # If no divisors are found, the number is prime \n",
    "    return 1\n",
    "\n",
    "# 2(a)\n",
    "IsPrime(10)\n",
    "\n",
    "#The function is not working properly"
   ]
  },
  {
   "cell_type": "markdown",
   "metadata": {},
   "source": [
    "# Question 3"
   ]
  },
  {
   "cell_type": "code",
   "execution_count": 129,
   "metadata": {},
   "outputs": [
    {
     "name": "stdout",
     "output_type": "stream",
     "text": [
      "Slope = 2.0\n"
     ]
    },
    {
     "data": {
      "image/png": "[encoded data removed]",
      "text/plain": [
       "<Figure size 432x288 with 1 Axes>"
      ]
     },
     "metadata": {
      "needs_background": "light"
     },
     "output_type": "display_data"
    }
   ],
   "source": [
    "# 3(b)\n",
    "data = np.loadtxt(\"/Users\\melec\\OneDrive\\Documents\\GitHub\\ACM20030Assignments\\PowerLawOrExponential.txt\")\n",
    "x = data[:,0]\n",
    "y = data[:,1]\n",
    "\n",
    "# 3(c) Exponential or Power plot\n",
    "plt.plot(x,np.log(y)) # Blue plot\n",
    "plt.plot(np.log(x),np.log(y)) # Orange plot\n",
    "plt.title(\"Exponential or Power Law\")\n",
    "plt.xlabel(\"x-axis\")\n",
    "plt.ylabel(\"y-axis\")\n",
    "plt.grid(True)\n",
    "plt.legend([\"Power Law\",\"Exponential\"])\n",
    "\n",
    "# 3(d) The data given is a discrete representation of the power law because the power law has a straight line representation for log-log plots\n",
    "\n",
    "# 3(f)\n",
    "Rise = 4.0\n",
    "Run = 2.0\n",
    "Slope = Rise / Run \n",
    "print(\"Slope = %s\" % Slope)\n",
    "\n",
    "\n",
    "\n",
    "\n"
   ]
  },
  {
   "cell_type": "code",
   "execution_count": null,
   "metadata": {},
   "outputs": [],
   "source": []
  },
  {
   "cell_type": "code",
   "execution_count": null,
   "metadata": {},
   "outputs": [],
   "source": []
  }
 ],
 "metadata": {
  "kernelspec": {
   "display_name": "Python 3",
   "language": "python",
   "name": "python3"
  },
  "language_info": {
   "codemirror_mode": {
    "name": "ipython",
    "version": 3
   },
   "file_extension": ".py",
   "mimetype": "text/x-python",
   "name": "python",
   "nbconvert_exporter": "python",
   "pygments_lexer": "ipython3",
   "version": "3.8.3"
  }
 },
 "nbformat": 4,
 "nbformat_minor": 4
}
