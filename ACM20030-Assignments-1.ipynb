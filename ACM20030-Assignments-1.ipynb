{
 "cells": [
  {
   "cell_type": "code",
   "execution_count": 6,
   "metadata": {},
   "outputs": [],
   "source": [
    "import numpy as np\n",
    "import matplotlib.pyplot as plt"
   ]
  },
  {
   "cell_type": "markdown",
   "metadata": {},
   "source": [
    "# Question 1"
   ]
  },
  {
   "cell_type": "code",
   "execution_count": 33,
   "metadata": {},
   "outputs": [
    {
     "name": "stdout",
     "output_type": "stream",
     "text": [
      "Answer for v(5,6) = 7.810\n",
      "Answer for v(-1,5) = 5.099\n",
      "\n",
      "Sin (1)= 0.841\n"
     ]
    }
   ],
   "source": [
    "# (a) Function of Vector Length with cartesian coordinates x and y.\n",
    "def VectorLength(x,y):\n",
    "    result = np.sqrt((x**2)+(y**2))\n",
    "    return result\n",
    "\n",
    "# (b) Using function 'VectorLength' to print given values for x and y\n",
    "print(\"Answer for v(5,6) = %.3f\" % VectorLength(5,6))\n",
    "print(\"Answer for v(-1,5) = %.3f\" % VectorLength(-1,5))\n",
    "\n",
    "print(\"\")\n",
    "\n",
    "# (c) Modifying commands \n",
    "print(\"Sin (1)= %.3f\" % np.sin(1))"
   ]
  },
  {
   "cell_type": "markdown",
   "metadata": {},
   "source": [
    "# Question 2\n",
    "(a) Copying the function and checking if it works correctly from values 1 to 10. The function does not work properly since it is giving us the wrong output for numbers that we know are not prime numbers."
   ]
  },
  {
   "cell_type": "code",
   "execution_count": 34,
   "metadata": {},
   "outputs": [
    {
     "name": "stdout",
     "output_type": "stream",
     "text": [
      "numbers,answer\n",
      "1 1\n",
      "2 1\n",
      "3 1\n",
      "4 1\n",
      "5 1\n",
      "6 0\n",
      "7 1\n",
      "8 0\n",
      "9 1\n",
      "10 0\n"
     ]
    }
   ],
   "source": [
    "# Function to check if a number is prime\n",
    "def IsPrime(n):\n",
    "    i = 2\n",
    "    while i < np.sqrt(n):\n",
    "        # For each i check if it divdes n\n",
    "        if (n % i == 0):\n",
    "            return 0\n",
    "        i = i + 1\n",
    "    # if no divisors are found, the number is prime \n",
    "    return 1\n",
    "\n",
    "print(\"numbers,answer\")\n",
    "for i in range(1,11):\n",
    "    print(i, IsPrime(i))\n"
   ]
  },
  {
   "cell_type": "markdown",
   "metadata": {},
   "source": [
    "(b) Adding an if-statement to correct the n = 1 case"
   ]
  },
  {
   "cell_type": "code",
   "execution_count": 76,
   "metadata": {},
   "outputs": [
    {
     "name": "stdout",
     "output_type": "stream",
     "text": [
      "numbers,answer\n",
      "1 0\n",
      "2 1\n",
      "3 1\n",
      "4 1\n",
      "5 1\n",
      "6 0\n",
      "7 1\n",
      "8 0\n",
      "9 1\n",
      "10 0\n"
     ]
    }
   ],
   "source": [
    "def IsPrime(n):\n",
    "    i = 2\n",
    "    # 1 is not a prime number, so we want 0 to return for n = 1\n",
    "    if (n == 1):\n",
    "        return 0\n",
    "    while i < np.sqrt(n):\n",
    "        if (n % i == 0):\n",
    "            return 0\n",
    "        i = i + 1\n",
    "    return 1\n",
    "\n",
    "print(\"numbers,answer\")\n",
    "for i in range(1,11):\n",
    "    print(i, IsPrime(i))\n",
    "\n"
   ]
  },
  {
   "cell_type": "markdown",
   "metadata": {},
   "source": [
    "(c) Putting a print statement inside while loop, and fixing function to make it work"
   ]
  },
  {
   "cell_type": "code",
   "execution_count": 7,
   "metadata": {},
   "outputs": [],
   "source": [
    "def IsPrime(n):\n",
    "    i = 2\n",
    "    if (n == 1):\n",
    "        return 0\n",
    "    while i < np.sqrt(n): # To make the function work, have 1 < n rather than 1 < sqrt(n)\n",
    "        print(i)\n",
    "        if (n % i == 0):\n",
    "            return 0\n",
    "        print(\"error\") # Values of 4 and 9 were giving 1, despite the fact that they should be giving 0.\n",
    "        i = i + 1\n",
    "    return 1\n"
   ]
  },
  {
   "cell_type": "markdown",
   "metadata": {},
   "source": [
    "(e) Using the corrected IsPrime() function to write a loop that calculates total number of prime numbers less than 1000. "
   ]
  },
  {
   "cell_type": "code",
   "execution_count": 10,
   "metadata": {},
   "outputs": [],
   "source": [
    "def IsPrime(n):\n",
    "    i = 2\n",
    "    if (n == 1):\n",
    "        return 0\n",
    "    while i < n:\n",
    "        if (n % i == 0):\n",
    "            return 0\n",
    "        i = i + 1\n",
    "    return 1\n",
    "\n"
   ]
  },
  {
   "cell_type": "code",
   "execution_count": 11,
   "metadata": {},
   "outputs": [
    {
     "data": {
      "text/plain": [
       "168"
      ]
     },
     "execution_count": 11,
     "metadata": {},
     "output_type": "execute_result"
    }
   ],
   "source": [
    "# From tutorial\n",
    "count = 0\n",
    "nmax = 1000\n",
    "\n",
    "for i in range(2, nmax):\n",
    "    if(IsPrime(i) == 1):\n",
    "        count += 1\n",
    "count"
   ]
  },
  {
   "cell_type": "code",
   "execution_count": 8,
   "metadata": {},
   "outputs": [],
   "source": [
    "x = np.array([])\n",
    "i = 1\n",
    "while i <= 1000:\n",
    "    if IsPrime(i) == 1:\n",
    "        x = np.append(x, IsPrime(i))\n",
    "    i = i + 1"
   ]
  },
  {
   "cell_type": "code",
   "execution_count": 9,
   "metadata": {},
   "outputs": [
    {
     "name": "stdout",
     "output_type": "stream",
     "text": [
      "Total numbers of prime numbers less than 1000 = 168\n"
     ]
    }
   ],
   "source": [
    "print(\"Total numbers of prime numbers less than 1000 = %d\" % np.size(x))"
   ]
  },
  {
   "cell_type": "markdown",
   "metadata": {},
   "source": [
    "(f) Prime counting function pi(x) is defined as the number of primes less than or equal to x. Use answer to part (e) to write a function with signature PrimeCount(x) that computes pi(x).\n",
    "\n",
    "Print PrimeCount(1000) and PrimeCount(10000)"
   ]
  },
  {
   "cell_type": "code",
   "execution_count": 15,
   "metadata": {},
   "outputs": [],
   "source": [
    "def PrimeCount(n):\n",
    "    x = np.array([])\n",
    "    index = 1\n",
    "    while index < n:\n",
    "        if IsPrime(index) == 1:\n",
    "            x = np.append(x, IsPrime(index))\n",
    "        index = index + 1\n",
    "    return np.size(x)"
   ]
  },
  {
   "cell_type": "code",
   "execution_count": 16,
   "metadata": {},
   "outputs": [
    {
     "name": "stdout",
     "output_type": "stream",
     "text": [
      "Total number of primes less than 1000 = 168\n"
     ]
    }
   ],
   "source": [
    "print(\"Total number of primes less than 1000 = %d\" % PrimeCount(1000))"
   ]
  },
  {
   "cell_type": "code",
   "execution_count": 17,
   "metadata": {},
   "outputs": [
    {
     "name": "stdout",
     "output_type": "stream",
     "text": [
      "Total number of primes less than 10000 = 1229\n"
     ]
    }
   ],
   "source": [
    "print(\"Total number of primes less than 10000 = %d\" % PrimeCount(10000))"
   ]
  },
  {
   "cell_type": "markdown",
   "metadata": {},
   "source": [
    "(g) Plotting the PrimeCount function for values less than 40"
   ]
  },
  {
   "cell_type": "code",
   "execution_count": 18,
   "metadata": {},
   "outputs": [],
   "source": [
    "x = np.arange(0,40,1) ; Pi = np.zeros(40)\n",
    "i = 0\n",
    "while i < np.size(Pi):\n",
    "    Pi[i] = PrimeCount(i)\n",
    "    i = i + 1"
   ]
  },
  {
   "cell_type": "code",
   "execution_count": 20,
   "metadata": {},
   "outputs": [
    {
     "data": {
      "text/plain": [
       "Text(0.5, 0, 'x')"
      ]
     },
     "execution_count": 20,
     "metadata": {},
     "output_type": "execute_result"
    },
    {
     "data": {
      "image/png": "[encoded data removed]",
      "text/plain": [
       "<Figure size 432x288 with 1 Axes>"
      ]
     },
     "metadata": {
      "needs_background": "light"
     },
     "output_type": "display_data"
    }
   ],
   "source": [
    "plt.plot(x, Pi, \"ro\")\n",
    "plt.ylabel(\"Pi(x)\")\n",
    "plt.xlabel(\"x\")"
   ]
  },
  {
   "cell_type": "markdown",
   "metadata": {},
   "source": [
    "# Question 3"
   ]
  },
  {
   "cell_type": "code",
   "execution_count": 5,
   "metadata": {},
   "outputs": [
    {
     "name": "stdout",
     "output_type": "stream",
     "text": [
      "Slope = 2.0\n"
     ]
    },
    {
     "data": {
      "image/png": "[encoded data removed]",
      "text/plain": [
       "<Figure size 432x288 with 1 Axes>"
      ]
     },
     "metadata": {
      "needs_background": "light"
     },
     "output_type": "display_data"
    }
   ],
   "source": [
    "# 3(b)\n",
    "data = np.loadtxt(\"/Users\\melec\\OneDrive\\Documents\\GitHub\\ACM20030Assignments\\PowerLawOrExponential.txt\")\n",
    "x = data[:,0]\n",
    "y = data[:,1]\n",
    "# Don't have to give full address of the data if they are in the same directory as the assignment\n",
    "\n",
    "\n",
    "# 3(c) Exponential or Power plot\n",
    "plt.plot(x,np.log(y)) # Blue plot\n",
    "plt.plot(np.log(x),np.log(y)) # Orange plot\n",
    "plt.title(\"Exponential or Power Law\")\n",
    "plt.xlabel(\"x-axis\")\n",
    "plt.ylabel(\"y-axis\")\n",
    "plt.grid(True)\n",
    "plt.legend([\"Power Law\",\"Exponential\"])\n",
    "\n",
    "# 3(d) The data given is a discrete representation of the power law because the power law has a straight line representation for log-log plots\n",
    "\n",
    "# 3(f)\n",
    "Rise = 4.0\n",
    "Run = 2.0\n",
    "Slope = Rise / Run \n",
    "print(\"Slope = %s\" % Slope)\n",
    "\n",
    "\n",
    "\n",
    "\n"
   ]
  }
 ],
 "metadata": {
  "kernelspec": {
   "display_name": "Python 3",
   "language": "python",
   "name": "python3"
  },
  "language_info": {
   "codemirror_mode": {
    "name": "ipython",
    "version": 3
   },
   "file_extension": ".py",
   "mimetype": "text/x-python",
   "name": "python",
   "nbconvert_exporter": "python",
   "pygments_lexer": "ipython3",
   "version": "3.8.3"
  }
 },
 "nbformat": 4,
 "nbformat_minor": 4
}
