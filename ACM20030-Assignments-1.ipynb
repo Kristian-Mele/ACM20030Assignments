{
 "cells": [
  {
   "cell_type": "code",
   "execution_count": 1,
   "metadata": {},
   "outputs": [],
   "source": [
    "import numpy as np\n",
    "import matplotlib.pyplot as plt"
   ]
  },
  {
   "cell_type": "markdown",
   "metadata": {},
   "source": [
    "# Question 1\n"
   ]
  },
  {
   "cell_type": "code",
   "execution_count": 35,
   "metadata": {},
   "outputs": [
    {
     "name": "stdout",
     "output_type": "stream",
     "text": [
      "Answer for v(5,6) = 7.810\n",
      "Answer for v(-1,5) = 5.099\n",
      "\n",
      "Sin (1)= 0.841\n"
     ]
    }
   ],
   "source": [
    "# 1(a) Function of Vector Length with cartestion coordinates x and y.\n",
    "def VectorLength(x,y):\n",
    "    result = np.sqrt((x**2)+(y**2))\n",
    "    return result\n",
    "\n",
    "# 1(b) Using function to print given values for x and y\n",
    "print(\"Answer for v(5,6) = %.3f\" % VectorLength(5,6))\n",
    "print(\"Answer for v(-1,5) = %.3f\" % VectorLength(-1,5))\n",
    "\n",
    "print(\"\")\n",
    "\n",
    "# 1(c) Modifying commands \n",
    "print(\"Sin (1)= %.3f\" % np.sin(1))"
   ]
  },
  {
   "cell_type": "code",
   "execution_count": null,
   "metadata": {},
   "outputs": [],
   "source": []
  }
 ],
 "metadata": {
  "kernelspec": {
   "display_name": "Python 3",
   "language": "python",
   "name": "python3"
  },
  "language_info": {
   "codemirror_mode": {
    "name": "ipython",
    "version": 3
   },
   "file_extension": ".py",
   "mimetype": "text/x-python",
   "name": "python",
   "nbconvert_exporter": "python",
   "pygments_lexer": "ipython3",
   "version": "3.8.3"
  }
 },
 "nbformat": 4,
 "nbformat_minor": 4
}
