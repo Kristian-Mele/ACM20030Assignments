{
 "cells": [
  {
   "cell_type": "markdown",
   "metadata": {},
   "source": [
    "# Assignment 2\n",
    "\n",
    "Complete the questions below in any order you like. Remember to commit the changes to GitHub as you go. The total marks for this assignment is 30."
   ]
  },
  {
   "cell_type": "markdown",
   "metadata": {},
   "source": [
    "# Question 0 [3 marks]\n",
    "\n",
    "You should have saved this notebook to your ACM20030-Assignments folder. Now:\n",
    "- commit the notebook to your local repository\n",
    "- push the changes to the GitHub\n",
    "- You will get marks for the question for using Git (i.e., pushing your assignment to the repository when asked below)"
   ]
  },
  {
   "cell_type": "code",
   "execution_count": 1,
   "metadata": {},
   "outputs": [],
   "source": [
    "import numpy as np\n",
    "import matplotlib.pyplot as plt"
   ]
  },
  {
   "cell_type": "code",
   "execution_count": 2,
   "metadata": {},
   "outputs": [],
   "source": [
    "# The below commands make the font and image size bigger\n",
    "plt.rcParams.update({'font.size': 22})\n",
    "plt.rcParams[\"figure.figsize\"] = (15,10)"
   ]
  },
  {
   "cell_type": "markdown",
   "metadata": {},
   "source": [
    "# Question 1: Bracketing and bisection method [9 marks]"
   ]
  },
  {
   "cell_type": "markdown",
   "metadata": {},
   "source": [
    "### Q. 1a [2 marks]\n",
    "Define a function for the quintic $f(x) = x^5-5 x^4-15 x^3+65 x^2+74 x-120$ and plot it in the range $x=-4\\dots6$"
   ]
  },
  {
   "cell_type": "code",
   "execution_count": 5,
   "metadata": {},
   "outputs": [],
   "source": [
    "def f(x):\n",
    "    return (x**5)-(5*x**4)-(15*x**3)+(65*x**2)+(74*x)-120"
   ]
  },
  {
   "cell_type": "markdown",
   "metadata": {},
   "source": [
    "### Q. 1b [2 marks]\n",
    "Using the plot, pick values of $a$ and $b$ such that $f(a) < 0$ and $f(b) > 0$ and the function has a **single** root in the region $(a,b)$. Assign variables called a and b to these values and print the values of $f(a)$ and $f(b)$."
   ]
  },
  {
   "cell_type": "code",
   "execution_count": 6,
   "metadata": {},
   "outputs": [],
   "source": [
    "x = np.arange(-5,5,0.1)\n",
    "vf = np.vectorize(f)\n",
    "y =vf(x)"
   ]
  },
  {
   "cell_type": "code",
   "execution_count": 7,
   "metadata": {},
   "outputs": [
    {
     "data": {
      "image/png": "[encoded data removed]",
      "text/plain": [
       "<Figure size 1080x720 with 1 Axes>"
      ]
     },
     "metadata": {
      "needs_background": "light"
     },
     "output_type": "display_data"
    }
   ],
   "source": [
    "plt.plot(x,y)\n",
    "plt.grid(True)"
   ]
  },
  {
   "cell_type": "code",
   "execution_count": 8,
   "metadata": {},
   "outputs": [],
   "source": [
    "# Pick interval (0,2) such that a = 0 and b = 2\n",
    "a = 0 ; b = 2"
   ]
  },
  {
   "cell_type": "code",
   "execution_count": 9,
   "metadata": {},
   "outputs": [
    {
     "name": "stdout",
     "output_type": "stream",
     "text": [
      "Value for f(0) = -120\n",
      "Value for f(2) = 120\n"
     ]
    }
   ],
   "source": [
    "print(\"Value for f(0) = %s\" % f(a))\n",
    "print(\"Value for f(2) = %s\" % (f(b)))"
   ]
  },
  {
   "cell_type": "markdown",
   "metadata": {},
   "source": [
    "Use the following FindRootBisection method to find the root to within a precision of $10^{-12}$"
   ]
  },
  {
   "cell_type": "code",
   "execution_count": 10,
   "metadata": {},
   "outputs": [],
   "source": [
    "# This function only works when a < b and f(a) < 0 < f(b)\n",
    "def FindRootBisection(f, a, b, tol, printSteps=False):\n",
    "    left = a\n",
    "    right = b\n",
    "    while right-left > tol:\n",
    "        midpoint = (left+right)/2\n",
    "        if(f(midpoint) < 0):\n",
    "            left = midpoint\n",
    "        else:\n",
    "            right = midpoint\n",
    "        if(printSteps == True):\n",
    "            print(midpoint)\n",
    "    return midpoint"
   ]
  },
  {
   "cell_type": "code",
   "execution_count": 11,
   "metadata": {},
   "outputs": [
    {
     "name": "stdout",
     "output_type": "stream",
     "text": [
      "Root of interval (a,b) within precision 1e-12 = 0.9999999999990905\n"
     ]
    }
   ],
   "source": [
    "print(\"Root of interval (a,b) within precision 1e-12 = %s\" % FindRootBisection(f,  a, b, 1e-12,))"
   ]
  },
  {
   "cell_type": "markdown",
   "metadata": {},
   "source": [
    "### Q. 1c [5 marks]\n",
    "As the comment on the above FindRootBisection( ) function says it only works when $a<b$ and $f(a) < 0 < f(b)$. Create a new function that: \n",
    " - **also** works when $f(a) > 0 > f(b)$. \n",
    " - Checks that $\\text{sign}(f(a)) \\neq \\text{sign}(f(b))$. If not the function should return \"sign(f(a)) = sign(f(b)) \", where $a$ and $b$ have been replaced by their values\n",
    " \n",
    "Call your new function FindRootBisectionImproved( ).  \n",
    "Useful function: np.sign(x) will return sign(x)\n",
    "\n",
    "Check your new function by:\n",
    " - finding the root between $x = -2.5$ and $x=-1$\n",
    " - finding the root between $x = 0$ and $x=2$\n",
    " - attempting to find a root between $x=6$ and $x=8$ (there is not root in this region)"
   ]
  },
  {
   "cell_type": "code",
   "execution_count": 314,
   "metadata": {},
   "outputs": [],
   "source": [
    "def FindRootBisectionImproved(f, a, b, tol, printSteps = False):\n",
    "    if np.sign(f(a)) > 0 and np.sign(f(b)) < 0 or np.sign(f(a)) < 0 and np.sign(f(b)) > 0:\n",
    "        left = a\n",
    "        right = b\n",
    "        while right - left > tol:\n",
    "            midpoint = (left+right)/2\n",
    "            if f(midpoint) == 0:\n",
    "                return midpoint\n",
    "            if f(midpoint) < 0:\n",
    "                right = midpoint\n",
    "            else:\n",
    "                left = midpoint\n",
    "            if (printSteps == True):\n",
    "                print(midpoint)\n",
    "        return midpoint\n",
    "    \n",
    "    if np.sign(f(a)) == np.sign(f(b)):\n",
    "        return print(\"sign(f(a)) = sign(f(b))\")"
   ]
  },
  {
   "cell_type": "code",
   "execution_count": 315,
   "metadata": {},
   "outputs": [
    {
     "data": {
      "text/plain": [
       "-1.9999999999997726"
      ]
     },
     "execution_count": 315,
     "metadata": {},
     "output_type": "execute_result"
    }
   ],
   "source": [
    "FindRootBisectionImproved(f, -2.5, -1, 1e-12,)"
   ]
  },
  {
   "cell_type": "code",
   "execution_count": 316,
   "metadata": {},
   "outputs": [
    {
     "data": {
      "text/plain": [
       "1.0"
      ]
     },
     "execution_count": 316,
     "metadata": {},
     "output_type": "execute_result"
    }
   ],
   "source": [
    "FindRootBisectionImproved(f, 0, 2, 1e-12,)"
   ]
  },
  {
   "cell_type": "code",
   "execution_count": 317,
   "metadata": {},
   "outputs": [
    {
     "name": "stdout",
     "output_type": "stream",
     "text": [
      "sign(f(a)) = sign(f(b))\n"
     ]
    }
   ],
   "source": [
    "FindRootBisectionImproved(f, 6, 8, 1e-12,)"
   ]
  },
  {
   "cell_type": "markdown",
   "metadata": {},
   "source": [
    "**Commit this question to your git repository and push the changes to GitHub**"
   ]
  },
  {
   "cell_type": "markdown",
   "metadata": {},
   "source": [
    "# Question 2: Newton-Raphson method [9 marks]"
   ]
  },
  {
   "cell_type": "markdown",
   "metadata": {},
   "source": [
    "### Q. 2a [3 marks]\n",
    " - Define a function $p(x) = x\\log(\\sqrt{x^2})$. Compute its derivative and define it as $dp(x) = \\dots$\n",
    " - Plot the function between $x=-2$ and $x=2$. Label the plot axes and use a grid.\n",
    " - By visual inspection state the location of the three roots"
   ]
  },
  {
   "cell_type": "code",
   "execution_count": 322,
   "metadata": {},
   "outputs": [],
   "source": [
    "def p(x):\n",
    "    return x*np.log(np.sqrt(x**2))"
   ]
  },
  {
   "cell_type": "code",
   "execution_count": 323,
   "metadata": {},
   "outputs": [],
   "source": [
    "def dp(x):\n",
    "    return np.log(np.abs(x)) + 1"
   ]
  },
  {
   "cell_type": "code",
   "execution_count": 324,
   "metadata": {},
   "outputs": [
    {
     "data": {
      "text/plain": [
       "[<matplotlib.lines.Line2D at 0x22afb88fe20>]"
      ]
     },
     "execution_count": 324,
     "metadata": {},
     "output_type": "execute_result"
    },
    {
     "data": {
      "image/png": "[encoded data removed]",
      "text/plain": [
       "<Figure size 1080x720 with 1 Axes>"
      ]
     },
     "metadata": {
      "needs_background": "light"
     },
     "output_type": "display_data"
    }
   ],
   "source": [
    "x = np.arange(-2, 2, 0.01)\n",
    "vp = np.vectorize(p)\n",
    "y = vp(x)\n",
    "\n",
    "plt.grid(True)\n",
    "plt.xlabel(\"x\")\n",
    "plt.ylabel(\"y\")\n",
    "plt.plot(x,y)\n",
    "\n",
    "#From visual inspection, we can see that the three roots are at x = -1 ; x = 0 ; x = 1"
   ]
  },
  {
   "cell_type": "markdown",
   "metadata": {},
   "source": [
    "### Q. 2b [2 marks]\n",
    " - Starting with a value $x_0$ near the root at $x=1$ such that $|x_0-1| \\ge 0.5$ use the below Newton-Raphson code to find the root to accuracy of $1\\times10^{-6}$"
   ]
  },
  {
   "cell_type": "code",
   "execution_count": 325,
   "metadata": {},
   "outputs": [],
   "source": [
    "def FindRootNewtonRaphson(f, df, x0, tol, printSteps=False):\n",
    "    f0 = f(x0)\n",
    "    count = 1\n",
    "    while np.abs(f0) > tol and count < 20:\n",
    "        f0 = f(x0)\n",
    "        x0 = x0 - f0/df(x0)\n",
    "        count += 1\n",
    "        if(printSteps == True):\n",
    "            print(\"x_%d = %.14lf\" % (count, x0))\n",
    "    return x0"
   ]
  },
  {
   "cell_type": "code",
   "execution_count": 326,
   "metadata": {},
   "outputs": [
    {
     "data": {
      "text/plain": [
       "-1.0"
      ]
     },
     "execution_count": 326,
     "metadata": {},
     "output_type": "execute_result"
    }
   ],
   "source": [
    "FindRootNewtonRaphson(p, dp, -2, 1e-6,)"
   ]
  },
  {
   "cell_type": "markdown",
   "metadata": {},
   "source": [
    "### Q. 2c [4 marks]\n",
    "As we discussed in the lectures, the Newton-Raphson method (usually) converges quadradically if an initial guess is given that is sufficiently close to the root. If the guess is too far from the root the method can diverge. In this question we will find the critical value between converging and diverging where the method oscilliates with period 2.\n",
    "\n",
    "If we define $F(x) = x - p(x)/p'(x)$, then a period-2 orbit will occur when $F(F(x)) = x$. In general this will be a complicated function so it might be very difficult to find the solution analytically. Instead, we can write this equation as $F(F(x)) - x = 0$, so the value of $x$ we want is the root.\n",
    "\n",
    "- Define a function F(x)\n",
    "- Define a function F2(x) which returns $F(F(x)) - x$\n",
    "- Plot F2(x) between $x=-0.2\\dots0.2$. Restrict the range on the $y$-axis to be between $-0.5$ and $0.5$. Add labels and a grid."
   ]
  },
  {
   "cell_type": "code",
   "execution_count": 327,
   "metadata": {},
   "outputs": [],
   "source": [
    "def F(x):\n",
    "    return x - (p(x)/dp(x))"
   ]
  },
  {
   "cell_type": "code",
   "execution_count": 328,
   "metadata": {},
   "outputs": [],
   "source": [
    "# Defining F2: \n",
    "def F2(x):\n",
    "    return F(F(x)) - x"
   ]
  },
  {
   "cell_type": "code",
   "execution_count": 329,
   "metadata": {},
   "outputs": [
    {
     "data": {
      "text/plain": [
       "[<matplotlib.lines.Line2D at 0x22afd19ac10>]"
      ]
     },
     "execution_count": 329,
     "metadata": {},
     "output_type": "execute_result"
    },
    {
     "data": {
      "image/png": "[encoded data removed]",
      "text/plain": [
       "<Figure size 1080x720 with 1 Axes>"
      ]
     },
     "metadata": {
      "needs_background": "light"
     },
     "output_type": "display_data"
    }
   ],
   "source": [
    "x = np.arange(-0.2, 0.2, 0.01)\n",
    "vF2 = np.vectorize(F2)\n",
    "y = vF2(x)\n",
    "\n",
    "plt.xlabel(\"x\")\n",
    "plt.ylabel(\"y\")\n",
    "plt.ylim(-0.5, 0.5)\n",
    "plt.grid(True)\n",
    "plt.plot(x,y)"
   ]
  },
  {
   "cell_type": "markdown",
   "metadata": {},
   "source": [
    "- We want to find a root with $x \\neq \\{-1,0,1\\}$. As we don't have easy access to the derivative of the function $F2(x)$ use the bisection method function from above to find a root to a precision of $10^{-15}$. Use the plot from the previous part to bracket a root. **Assign** the value of the root of the variable 'x2' and also print(x2).\n",
    "- Using the Newton-Raphson method with the function $p(x)$ and the initial guess x2. Set the final argument to True to print out the steps in the method takes. You should see that they oscillate between two values and does not converge."
   ]
  },
  {
   "cell_type": "code",
   "execution_count": 337,
   "metadata": {},
   "outputs": [
    {
     "name": "stdout",
     "output_type": "stream",
     "text": [
      "0.13533528323661204\n"
     ]
    }
   ],
   "source": [
    "x2 = FindRootBisection(F2, 0.10, 0.15, 1e-15)\n",
    "print(x2)"
   ]
  },
  {
   "cell_type": "code",
   "execution_count": 338,
   "metadata": {},
   "outputs": [
    {
     "name": "stdout",
     "output_type": "stream",
     "text": [
      "x_2 = -0.13533528323661\n",
      "x_3 = 0.13533528323661\n",
      "x_4 = -0.13533528323661\n",
      "x_5 = 0.13533528323660\n",
      "x_6 = -0.13533528323659\n",
      "x_7 = 0.13533528323657\n",
      "x_8 = -0.13533528323653\n",
      "x_9 = 0.13533528323644\n",
      "x_10 = -0.13533528323627\n",
      "x_11 = 0.13533528323594\n",
      "x_12 = -0.13533528323526\n",
      "x_13 = 0.13533528323391\n",
      "x_14 = -0.13533528323120\n",
      "x_15 = 0.13533528322578\n",
      "x_16 = -0.13533528321496\n",
      "x_17 = 0.13533528319330\n",
      "x_18 = -0.13533528314999\n",
      "x_19 = 0.13533528306337\n",
      "x_20 = -0.13533528289012\n"
     ]
    },
    {
     "data": {
      "text/plain": [
       "-0.1353352828901236"
      ]
     },
     "execution_count": 338,
     "metadata": {},
     "output_type": "execute_result"
    }
   ],
   "source": [
    "FindRootNewtonRaphson(p, dp, x2, 1e-6, True)"
   ]
  },
  {
   "cell_type": "markdown",
   "metadata": {},
   "source": [
    "By slightly perturbing the initial guess we can get the method to converge or diverge. Try:\n",
    " - adding $10^{-3}$ to the initial guess. Does the method converge or diverge? If it converges, to which root does it converge?\n",
    " - subtracting $10^{-3}$ from the initial guess. Does the method converge or diverge? If it converges, to which root does it converge?\n",
    " \n",
    "In both cases set the final argument to 'True' to get the function to print the steps the method is taking"
   ]
  },
  {
   "cell_type": "markdown",
   "metadata": {},
   "source": [
    "**Commit this question to your git repository and push the changes to GitHub**"
   ]
  },
  {
   "cell_type": "code",
   "execution_count": 340,
   "metadata": {
    "scrolled": true
   },
   "outputs": [
    {
     "name": "stdout",
     "output_type": "stream",
     "text": [
      "x_2 = -0.13734641252178\n",
      "x_3 = 0.13940274435167\n",
      "x_4 = -0.14365669284137\n",
      "x_5 = 0.15277281420572\n",
      "x_6 = -0.17384186884629\n",
      "x_7 = 0.23191000128709\n",
      "x_8 = -0.50261602037049\n",
      "x_9 = -1.61058113397135\n",
      "x_10 = -1.09073988553266\n",
      "x_11 = -1.00357326506205\n",
      "x_12 = -1.00000634630754\n",
      "x_13 = -1.00000000002014\n",
      "x_14 = -1.00000000000000\n"
     ]
    },
    {
     "data": {
      "text/plain": [
       "-1.0"
      ]
     },
     "execution_count": 340,
     "metadata": {},
     "output_type": "execute_result"
    }
   ],
   "source": [
    "FindRootNewtonRaphson(p, dp, x2+1e-3, 1e-6, True)"
   ]
  },
  {
   "cell_type": "markdown",
   "metadata": {},
   "source": [
    "When we perturb the initial guess by adding $10^-3$, the Newton Raphson Method converges to -1"
   ]
  },
  {
   "cell_type": "code",
   "execution_count": 342,
   "metadata": {},
   "outputs": [
    {
     "name": "stdout",
     "output_type": "stream",
     "text": [
      "x_2 = -0.13334632152317\n",
      "x_3 = 0.13140085125822\n",
      "x_4 = -0.12763526695954\n",
      "x_5 = 0.12057231447082\n",
      "x_6 = -0.10808759363305\n",
      "x_7 = 0.08824821801378\n",
      "x_8 = -0.06181571044991\n",
      "x_9 = 0.03465787678808\n",
      "x_10 = -0.01467167593715\n",
      "x_11 = 0.00455382393267\n",
      "x_12 = -0.00103689521430\n",
      "x_13 = 0.00017659727582\n",
      "x_14 = -0.00002310986987\n",
      "x_15 = 0.00000238855513\n",
      "x_16 = -0.00000019996574\n",
      "x_17 = 0.00000001386233\n",
      "x_18 = -0.00000000081094\n"
     ]
    },
    {
     "data": {
      "text/plain": [
       "-8.109426700637063e-10"
      ]
     },
     "execution_count": 342,
     "metadata": {},
     "output_type": "execute_result"
    }
   ],
   "source": [
    "FindRootNewtonRaphson(p, dp, x2-1e-3, 1e-6, True)"
   ]
  },
  {
   "cell_type": "markdown",
   "metadata": {},
   "source": [
    "When we perturb the initial guess by subtracting $10^-3$, the Newton Raphson Method converges to 0 "
   ]
  },
  {
   "cell_type": "markdown",
   "metadata": {},
   "source": [
    "\n",
    "\n",
    "\n",
    "\n",
    "# Question 3: Slow convergence of the Newton-Raphson method at repeated roots [9 marks]\n",
    "The Newton-Raphson method usual converges quadratically but it will converge more slowly at repeated roots. In this question we will look at an example of this."
   ]
  },
  {
   "cell_type": "markdown",
   "metadata": {},
   "source": [
    "Define the function $g(x) = (x+1)^2(x-2)$, and also define its derivative $g'(x)$. Plot the function from $x=-2\\dots2.5$"
   ]
  },
  {
   "cell_type": "code",
   "execution_count": 120,
   "metadata": {},
   "outputs": [],
   "source": [
    "def g(x):\n",
    "    return ((x+1)**2)*(x-2)"
   ]
  },
  {
   "cell_type": "code",
   "execution_count": 121,
   "metadata": {},
   "outputs": [],
   "source": [
    "def dg(x):\n",
    "    return 3*(x**2)-3"
   ]
  },
  {
   "cell_type": "code",
   "execution_count": 123,
   "metadata": {},
   "outputs": [
    {
     "data": {
      "text/plain": [
       "Text(0, 0.5, 'y')"
      ]
     },
     "execution_count": 123,
     "metadata": {},
     "output_type": "execute_result"
    },
    {
     "data": {
      "image/png": "[encoded data removed]",
      "text/plain": [
       "<Figure size 1080x720 with 1 Axes>"
      ]
     },
     "metadata": {
      "needs_background": "light"
     },
     "output_type": "display_data"
    }
   ],
   "source": [
    "x = np.arange(-2, 2.6, 0.1)\n",
    "vg = np.vectorize(g)\n",
    "y = vg(x)\n",
    "\n",
    "plt.plot(x,y)\n",
    "plt.grid(True)\n",
    "plt.xlabel(\"x\")\n",
    "plt.ylabel(\"y\")"
   ]
  },
  {
   "cell_type": "markdown",
   "metadata": {},
   "source": [
    "Run the FindRootNewtonRaphson command with the final (optional) argument set to True to see the steps the algorithm takes. Run it with:\n",
    " - the initial value of $x_0 = -1.5$\n",
    " - the initial value of $x_0 = 1.5$"
   ]
  },
  {
   "cell_type": "code",
   "execution_count": 36,
   "metadata": {},
   "outputs": [],
   "source": [
    "def FindRootNewtonRaphson(f, df, x0, tol, printSteps=False):\n",
    "    f0 = f(x0)\n",
    "    count = 1\n",
    "    while np.abs(f0) > tol and count < 20:\n",
    "        f0 = f(x0)\n",
    "        x0 = x0 - f0/df(x0)\n",
    "        count += 1\n",
    "        if(printSteps == True):\n",
    "            print(\"x_%d = %.14lf\" % (count, x0))\n",
    "    return x0"
   ]
  },
  {
   "cell_type": "code",
   "execution_count": 37,
   "metadata": {},
   "outputs": [
    {
     "name": "stdout",
     "output_type": "stream",
     "text": [
      "x_2 = -1.26666666666667\n",
      "x_3 = -1.13856209150327\n",
      "x_4 = -1.07077733565581\n",
      "x_5 = -1.03579185227111\n",
      "x_6 = -1.01800080397360\n",
      "x_7 = -1.00902716353409\n",
      "x_8 = -1.00452034206070\n",
      "x_9 = -1.00226186998146\n",
      "x_10 = -1.00113136084710\n",
      "x_11 = -1.00056578702802\n",
      "x_12 = -1.00028292018271\n"
     ]
    },
    {
     "data": {
      "text/plain": [
       "-1.0002829201827148"
      ]
     },
     "execution_count": 37,
     "metadata": {},
     "output_type": "execute_result"
    }
   ],
   "source": [
    "# x0 = -1.5\n",
    "FindRootNewtonRaphson(g, dg, -1.5, 1e-6, True)"
   ]
  },
  {
   "cell_type": "code",
   "execution_count": 38,
   "metadata": {},
   "outputs": [
    {
     "name": "stdout",
     "output_type": "stream",
     "text": [
      "x_2 = 2.33333333333333\n",
      "x_3 = 2.05555555555556\n",
      "x_4 = 2.00194931773879\n",
      "x_5 = 2.00000252829797\n",
      "x_6 = 2.00000000000426\n",
      "x_7 = 2.00000000000000\n"
     ]
    },
    {
     "data": {
      "text/plain": [
       "2.0"
      ]
     },
     "execution_count": 38,
     "metadata": {},
     "output_type": "execute_result"
    }
   ],
   "source": [
    "# x0 = 1.5\n",
    "FindRootNewtonRaphson(g, dg, 1.5, 1e-6, True)"
   ]
  },
  {
   "cell_type": "markdown",
   "metadata": {},
   "source": [
    "What do you notice about the convergence rates in these two cases? Let's examine it more carefully. The function below returns the individual steps of the Newton-Raphson algorithm."
   ]
  },
  {
   "cell_type": "code",
   "execution_count": 126,
   "metadata": {},
   "outputs": [],
   "source": [
    "def FindRootNewtonRaphsonSteps(f, df, x0, tol):\n",
    "    steps = np.array([x0])\n",
    "    f0 = f(x0)\n",
    "    count = 1\n",
    "    while np.abs(f0) > tol:\n",
    "        f0 = f(x0)\n",
    "        x0 = x0 - f0/df(x0)\n",
    "        steps = np.append(steps, x0)\n",
    "        count += 1\n",
    "    return steps"
   ]
  },
  {
   "cell_type": "markdown",
   "metadata": {},
   "source": [
    "Using the above function:\n",
    "- compute the steps for the function $g(x)$ with  $x_0 = 1.5$. Assign the result to a variable.\n",
    "- compute the steps for the function $g(x)$ with  $x_0 = -1.5$. Assign the result to a different variable."
   ]
  },
  {
   "cell_type": "code",
   "execution_count": 128,
   "metadata": {},
   "outputs": [
    {
     "name": "stdout",
     "output_type": "stream",
     "text": [
      "[1.5        2.33333333 2.05555556 2.00194932 2.00000253 2.\n",
      " 2.        ]\n",
      "\n",
      "[-1.5        -1.26666667 -1.13856209 -1.07077734 -1.03579185 -1.0180008\n",
      " -1.00902716 -1.00452034 -1.00226187 -1.00113136 -1.00056579 -1.00028292]\n"
     ]
    }
   ],
   "source": [
    "Steps1 = FindRootNewtonRaphsonSteps(g, dg, 1.5, 1e-6)\n",
    "print(Steps1)\n",
    "\n",
    "print(\"\")\n",
    "\n",
    "Steps2 = FindRootNewtonRaphsonSteps(g, dg, -1.5, 1e-6)\n",
    "print(Steps2)"
   ]
  },
  {
   "cell_type": "markdown",
   "metadata": {},
   "source": [
    "Plot the absolute difference between the steps and the relevant root, i.e., $|x_n - x_*|$, on a log scale."
   ]
  },
  {
   "cell_type": "code",
   "execution_count": 165,
   "metadata": {},
   "outputs": [
    {
     "data": {
      "image/png": "[encoded data removed]",
      "text/plain": [
       "<Figure size 1080x720 with 1 Axes>"
      ]
     },
     "metadata": {
      "needs_background": "light"
     },
     "output_type": "display_data"
    }
   ],
   "source": [
    "# Take the steps when x_0 = 1.5, so the relevant root is 2\n",
    "x_relevant = 2\n",
    "def AbsoluteDifference(x):\n",
    "    return np.abs(x - x_relevant)\n",
    "\n",
    "x_Steps = np.array([-1.5, -1.26666667, -1.13856209, -1.07077734, -1.03579185, -1.0180008, -1.00902716,  -1.00452034, -1.00226187, -1.00113136, -1.00056579, -1.00028292])\n",
    "AbsoluteDifference(x_Steps)\n",
    "y = AbsoluteDifference(x_Steps)\n",
    "\n",
    "plt.plot(x_Steps,y)\n",
    "plt.yscale(\"log\")"
   ]
  },
  {
   "cell_type": "markdown",
   "metadata": {},
   "source": [
    "You should find the repeated difference for the repeated root looks linear on the log-scale, which is the same as we saw for the bisection method. This (correctly) suggests that for repeated roots the Newton-Raphson converges linearly (rather than quadratically)"
   ]
  },
  {
   "cell_type": "markdown",
   "metadata": {},
   "source": [
    "**Commit this question to your git repository and push the changes to GitHub**"
   ]
  },
  {
   "cell_type": "markdown",
   "metadata": {},
   "source": [
    "## Submitting your assignment to BrightSpace\n",
    "\n",
    "To submit your assignment compress your entire ACM20030-Assignments folder (this will contain this assignment and assignment 1) and uploaded the zip file to BrightSpace. DO NOT download the zip file from the GitHub browser interface."
   ]
  }
 ],
 "metadata": {
  "kernelspec": {
   "display_name": "Python 3",
   "language": "python",
   "name": "python3"
  },
  "language_info": {
   "codemirror_mode": {
    "name": "ipython",
    "version": 3
   },
   "file_extension": ".py",
   "mimetype": "text/x-python",
   "name": "python",
   "nbconvert_exporter": "python",
   "pygments_lexer": "ipython3",
   "version": "3.8.3"
  }
 },
 "nbformat": 4,
 "nbformat_minor": 2
}
