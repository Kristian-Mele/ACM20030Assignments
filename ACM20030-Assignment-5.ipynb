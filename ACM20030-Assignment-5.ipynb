{
 "cells": [
  {
   "cell_type": "markdown",
   "metadata": {},
   "source": [
    "#  Assignment 5\n",
    "\n",
    "This assignment covers material on matrices, norms, condition numbers and eigensystems.\n",
    "\n",
    "The breakdown of the marks is as follows:\n",
    "\n",
    "Question 0 - [1 mark]  \n",
    "Question 1 - [7 marks]  \n",
    "Questino 2 - [6 marks]  \n",
    "Question 3 - [7 marks]  \n",
    "Question 4 - [9 marks]  "
   ]
  },
  {
   "cell_type": "markdown",
   "metadata": {},
   "source": [
    "# Question 0\n",
    "\n",
    "You should have saved this notebook to your ACM20030-Assignments folder. Now:\n",
    "- commit the notebook to your local repository\n",
    "- push the changes to the GitHub"
   ]
  },
  {
   "cell_type": "code",
   "execution_count": 3,
   "metadata": {},
   "outputs": [],
   "source": [
    "import numpy as np\n",
    "from numpy import linalg as la\n",
    "np.set_printoptions(linewidth=200)  # This stops line wrapping of larger matrices"
   ]
  },
  {
   "cell_type": "markdown",
   "metadata": {},
   "source": [
    "# Question 1 - practice manipulating arrays\n",
    "\n",
    "This questions asks you write a few functions for manipulating arrays of data"
   ]
  },
  {
   "cell_type": "markdown",
   "metadata": {},
   "source": [
    "## Q1 a\n",
    "\n",
    "Write a function that checks if a given $n\\times n$ matrix is symmetric. Use only loops and `.shape` function from numpy (do not use any other special numpy functions)."
   ]
  },
  {
   "cell_type": "code",
   "execution_count": 4,
   "metadata": {},
   "outputs": [],
   "source": [
    "def SymmetricTest(A): \n",
    "    i = 0\n",
    "    finished = False\n",
    "    while i < np.shape(A)[0] and finished == False: \n",
    "        #For each row, now need to look at \n",
    "        j=0\n",
    "        while j < np.size(A[0]): #Iterates for each column on that specific row\n",
    "            if A[i][j] != A[j][i]:\n",
    "                return \"Matrix is not symmetric\"\n",
    "                finished = True\n",
    "                break\n",
    "            else:\n",
    "                j += 1\n",
    "                continue\n",
    "        j = 0\n",
    "        i += 1\n",
    "    if i == np.shape(A)[0]:\n",
    "        return \"Matrix is symmetric\""
   ]
  },
  {
   "cell_type": "markdown",
   "metadata": {},
   "source": [
    "Test your function on the two matrices below"
   ]
  },
  {
   "cell_type": "code",
   "execution_count": 5,
   "metadata": {},
   "outputs": [],
   "source": [
    "A = np.random.rand(5,5)\n",
    "SymMatrix = (A + A.T)/2"
   ]
  },
  {
   "cell_type": "code",
   "execution_count": 6,
   "metadata": {},
   "outputs": [
    {
     "data": {
      "text/plain": [
       "'Matrix is not symmetric'"
      ]
     },
     "execution_count": 6,
     "metadata": {},
     "output_type": "execute_result"
    }
   ],
   "source": [
    "SymmetricTest(A)"
   ]
  },
  {
   "cell_type": "code",
   "execution_count": 7,
   "metadata": {},
   "outputs": [
    {
     "data": {
      "text/plain": [
       "'Matrix is symmetric'"
      ]
     },
     "execution_count": 7,
     "metadata": {},
     "output_type": "execute_result"
    }
   ],
   "source": [
    "SymmetricTest(SymMatrix)"
   ]
  },
  {
   "cell_type": "markdown",
   "metadata": {},
   "source": [
    "## Q1 b\n",
    "\n",
    "Write a function to transpose a general $n\\times n$ matrix. Do this by writing loops and not using any special functions like `np.transpose()`, `A.T`, or any functions from any other library (`np.zeroes`, `np.ones`, `np.shape`, etc are all ok to use)."
   ]
  },
  {
   "cell_type": "code",
   "execution_count": 8,
   "metadata": {},
   "outputs": [],
   "source": [
    "def TransposeMatrix(X,n): #A is the matrix and n is the number of rows and column\n",
    "    result=np.zeros((n,n))\n",
    "    m = np.shape(X)[0]\n",
    "    #Since matrix has to be square\n",
    "    n = m \n",
    "    for i in range(m):\n",
    "        for j in range(n):\n",
    "            result[j][i]=X[i][j] \n",
    "    return result"
   ]
  },
  {
   "cell_type": "markdown",
   "metadata": {},
   "source": [
    "Check your code by transposing a matrix by checking that $A^T \\neq A$ and $(A^T)^T - A = 0$"
   ]
  },
  {
   "cell_type": "code",
   "execution_count": 9,
   "metadata": {
    "scrolled": true
   },
   "outputs": [
    {
     "name": "stdout",
     "output_type": "stream",
     "text": [
      "[[0.22230983 0.44203846 0.30249761 0.99990134 0.78507374 0.58124414]\n",
      " [0.19071481 0.46132477 0.29230281 0.34125366 0.15757779 0.88760788]\n",
      " [0.6381536  0.10867879 0.50808414 0.11800732 0.44219102 0.31998846]\n",
      " [0.54821764 0.16387554 0.52640745 0.12394159 0.57409079 0.82308496]\n",
      " [0.64489547 0.03880671 0.36389856 0.89197368 0.93321292 0.59180477]\n",
      " [0.77363901 0.86511726 0.59542232 0.18001226 0.6728266  0.25428303]]\n"
     ]
    }
   ],
   "source": [
    "A = np.random.rand(6,6);\n",
    "print(A)"
   ]
  },
  {
   "cell_type": "code",
   "execution_count": 10,
   "metadata": {
    "scrolled": true
   },
   "outputs": [],
   "source": [
    "AT = TransposeMatrix(A,6)"
   ]
  },
  {
   "cell_type": "code",
   "execution_count": 11,
   "metadata": {},
   "outputs": [
    {
     "data": {
      "text/plain": [
       "array([[0., 0., 0., 0., 0., 0.],\n",
       "       [0., 0., 0., 0., 0., 0.],\n",
       "       [0., 0., 0., 0., 0., 0.],\n",
       "       [0., 0., 0., 0., 0., 0.],\n",
       "       [0., 0., 0., 0., 0., 0.],\n",
       "       [0., 0., 0., 0., 0., 0.]])"
      ]
     },
     "execution_count": 11,
     "metadata": {},
     "output_type": "execute_result"
    }
   ],
   "source": [
    "ATT=TransposeMatrix(AT,6)\n",
    "ATT-A"
   ]
  },
  {
   "cell_type": "markdown",
   "metadata": {},
   "source": [
    "# Q1c\n",
    "\n",
    "Write a function that finds the maximum entry in a matrix (where the matrix does not need to be square). Do this by writing loops and not using any special functions like `np.max` or any functions from any other library."
   ]
  },
  {
   "cell_type": "code",
   "execution_count": 12,
   "metadata": {},
   "outputs": [],
   "source": [
    "def MaxEntry(A):\n",
    "    m = np.shape(A)[0] # Rows of the matrix\n",
    "    # Since matrix is not necessarily square\n",
    "    n = np.shape(A)[1] # Columns of the matrix\n",
    "    entries = []\n",
    "    i = 0\n",
    "    # First loop iterates through the rows\n",
    "    while i < m:\n",
    "        # Iterate through the columns within the first row\n",
    "        j = 0\n",
    "        while j < n:\n",
    "            # Append each entry into a list\n",
    "            entries.append(A[i][j])\n",
    "            j += 1\n",
    "        j = 0\n",
    "        i += 1\n",
    "    # Look through the list to find the maximum value\n",
    "    # Assume largest entry is the first entry\n",
    "    maxentry = entries[0]\n",
    "    for x in entries:\n",
    "        # Check if the current entry in the list is bigger than the previous entry\n",
    "        if x > maxentry:\n",
    "            maxentry = x\n",
    "    return maxentry"
   ]
  },
  {
   "cell_type": "markdown",
   "metadata": {},
   "source": [
    "Check your result by comparing to `np.max(A)` for the below random matrix"
   ]
  },
  {
   "cell_type": "code",
   "execution_count": 13,
   "metadata": {},
   "outputs": [
    {
     "name": "stdout",
     "output_type": "stream",
     "text": [
      "0.9135971889077995\n"
     ]
    },
    {
     "data": {
      "text/plain": [
       "0.9135971889077995"
      ]
     },
     "execution_count": 13,
     "metadata": {},
     "output_type": "execute_result"
    }
   ],
   "source": [
    "A = np.random.rand(4,5)\n",
    "print(np.max(A))\n",
    "MaxEntry(A)"
   ]
  },
  {
   "cell_type": "markdown",
   "metadata": {},
   "source": [
    "Commit your notebook to git and push it to GitHub.\n",
    "\n",
    "# Question 2:  matrix norms\n",
    "\n",
    "In the lectures we focused on the $L^2$-norm. We also briefly mentioned the $L^1$ and $L^\\infty$ norm. Let's look at calculating those as well for a general $m\\times n$ matrix."
   ]
  },
  {
   "cell_type": "markdown",
   "metadata": {},
   "source": [
    "# Q2a\n",
    "\n",
    "The $L^1$ norm is given by\n",
    "\n",
    "$$ \\lVert A \\rVert_1 = \\max_j \\sum^m_{i=1} |a_{ij}| $$\n",
    "\n",
    "i.e., it is the max of the sums of the absolute values of each column. Write a function that computes the $L^1$-norm using only loops. The function should use no special numpy functions except `np.abs()` (`np.shape`, `np.inf`, etc are ok to use)."
   ]
  },
  {
   "cell_type": "code",
   "execution_count": 14,
   "metadata": {},
   "outputs": [],
   "source": [
    "def L1norm(A):\n",
    "    columnsums = [] # Empty list to append sums of the columns\n",
    "    m = np.shape(A)[0] #Rows of the matrix\n",
    "    n = np.shape(A)[1] #Columns of the matrix\n",
    "    j = 0\n",
    "    while j < n: #Looking at the columns of the matrix\n",
    "        i = 0\n",
    "        norm = 0\n",
    "        while i < m: #Iterating through each row of the first column\n",
    "            norm += np.abs(A[i][j]) \n",
    "            i += 1\n",
    "            columnsums.append(norm)\n",
    "        i = 0 # Before we add the next column, must have it so that we iterate starting from the first row of the next column\n",
    "        j += 1\n",
    "    return np.max(columnsums)"
   ]
  },
  {
   "cell_type": "markdown",
   "metadata": {},
   "source": [
    "Check your result against NumPy's `la.norm(A,1)` function for the following random matrix"
   ]
  },
  {
   "cell_type": "code",
   "execution_count": 15,
   "metadata": {},
   "outputs": [
    {
     "name": "stdout",
     "output_type": "stream",
     "text": [
      "2.3909662087208408\n"
     ]
    },
    {
     "data": {
      "text/plain": [
       "2.3909662087208408"
      ]
     },
     "execution_count": 15,
     "metadata": {},
     "output_type": "execute_result"
    }
   ],
   "source": [
    "A = np.random.rand(3,4)\n",
    "print(la.norm(A,1))\n",
    "L1norm(A)"
   ]
  },
  {
   "cell_type": "markdown",
   "metadata": {},
   "source": [
    "## Q2b\n",
    "\n",
    "The $L^\\infty$ norm is given by \n",
    "\n",
    "$$\\lVert A \\rVert_\\infty = \\max_i \\sum_{j=1}^n |a_{ij}|$$\n",
    "\n",
    "i.e., it is the max of the sums of the absolute values of each row. Write a function that computes the $L^\\infty$-norm using only loops and no special numpy functions."
   ]
  },
  {
   "cell_type": "code",
   "execution_count": 16,
   "metadata": {},
   "outputs": [],
   "source": [
    "def Linfnorm(A):\n",
    "    columnsums = [] # Empty list to append sums of the columns\n",
    "    m = np.shape(A)[0] #Rows of the matrix\n",
    "    n = np.shape(A)[1] #Columns of the matrix\n",
    "    i = 0\n",
    "    while i < m: #Looking at the rows of the matrix\n",
    "        j = 0\n",
    "        norm = 0\n",
    "        while j < n: #Iterating through each row of the first column\n",
    "            norm += np.abs(A[i][j]) \n",
    "            j += 1\n",
    "            columnsums.append(norm)\n",
    "        j = 0 # Before we add the next column, must have it so that we iterate starting from the first row of the next column\n",
    "        i += 1\n",
    "    return np.max(columnsums)"
   ]
  },
  {
   "cell_type": "markdown",
   "metadata": {},
   "source": [
    "Check your result against NumPy's `la.norm(A,np.inf)` function for the following random matrix"
   ]
  },
  {
   "cell_type": "code",
   "execution_count": 17,
   "metadata": {},
   "outputs": [
    {
     "name": "stdout",
     "output_type": "stream",
     "text": [
      "3.404869807527554\n"
     ]
    },
    {
     "data": {
      "text/plain": [
       "3.404869807527554"
      ]
     },
     "execution_count": 17,
     "metadata": {},
     "output_type": "execute_result"
    }
   ],
   "source": [
    "A = np.random.rand(3,4)\n",
    "print(la.norm(A,np.inf))\n",
    "Linfnorm(A)\n"
   ]
  },
  {
   "cell_type": "markdown",
   "metadata": {},
   "source": [
    "Commit your notebook to git and push it to GitHub.\n",
    "\n",
    "# Question 3: ill-conditions systems of equations\n",
    "\n",
    "In this question you can use any of NumPy's functions.\n",
    "\n",
    "## Q3a\n",
    "\n",
    "Which of the following three matrices, $A1, A2, A3$, are ill-conditioned. State the reason for your conclusion."
   ]
  },
  {
   "cell_type": "code",
   "execution_count": 18,
   "metadata": {},
   "outputs": [],
   "source": [
    "A1 = np.array([[ 2.852416473483e-01,  3.803483118694e-01,  2.697704226632e-01,  6.810611849029e-01],\n",
    "       [ 6.622827828376e-01,  6.447943415836e-01,  4.387842058829e-01,  1.530575702376e+00],\n",
    "       [ 3.672130860703e-01,  8.309522079704e-01,  9.975487474007e-01,  5.678296337101e-01],\n",
    "       [ 4.036490000599e-01,  6.865978225967e-06,  8.788095913773e-01, -7.150472427928e-02]])\n",
    "\n",
    "A2 = np.array([[0.988746460106, 0.351486109477, 0.024911477532, 0.384039749683],\n",
    "       [0.282104657306, 0.239884151775, 0.36170151991 , 0.903082266861],\n",
    "       [0.59333290915 , 0.637178863968, 0.241229214635, 0.685595037901],\n",
    "       [0.013591747828, 0.917926970364, 0.458689093885, 0.157821121254]])\n",
    "\n",
    "A3 = np.array([[0.131923621844, 0.245316154195, 0.732362341613, 0.957047891764],\n",
    "       [0.91290446184 , 0.512312007959, 0.391938831444, 0.092509684772],\n",
    "       [0.648708523652, 0.608576675797, 0.576773587276, 0.065385122929],\n",
    "       [0.502955480393, 0.084082960221, 0.659487390444, 0.662958739412]])"
   ]
  },
  {
   "cell_type": "code",
   "execution_count": 19,
   "metadata": {},
   "outputs": [
    {
     "name": "stdout",
     "output_type": "stream",
     "text": [
      "Solution to A1\n",
      "[[-74507366.21915984]\n",
      " [-37253685.82140911]\n",
      " [ 37253687.7088334 ]\n",
      " [ 37253684.21585298]]\n",
      "\n",
      "Solution to A2\n",
      "[[-0.98741275]\n",
      " [ 4.08539139]\n",
      " [ 0.09204109]\n",
      " [ 1.40102595]]\n",
      "\n",
      "Solution to A3\n",
      "[[ 2.15102205]\n",
      " [-7.68066892]\n",
      " [11.58302528]\n",
      " [-6.14655759]]\n",
      "\n",
      "New solution to A1\n",
      "[[-4.56447494e+08]\n",
      " [-2.28223749e+08]\n",
      " [ 2.28223751e+08]\n",
      " [ 2.28223748e+08]]\n",
      "\n",
      "New solution to A2\n",
      "[[-0.77763587]\n",
      " [ 3.93621745]\n",
      " [ 0.44140989]\n",
      " [ 1.23519189]]\n",
      "New solution to A3\n",
      "[[ 2.08844524]\n",
      " [-7.47388315]\n",
      " [11.41371722]\n",
      " [-5.95688858]]\n"
     ]
    }
   ],
   "source": [
    "# Using the expression Ax = b. If system is ill-conditioned, a very small change in b gives a large change in x. \n",
    "# Use a common 'b' vector for each of the matrices. Matrices are 4 x 4 matrices; 'x' and 'b' are 4 x 1 column vectors \n",
    "b = np.array([[1], [2], [3], [4]])\n",
    "\n",
    "# Solve for 'x' by using x = A^(-1)*b\n",
    "x1 = la.inv(A1)@b\n",
    "print(\"Solution to A1\")\n",
    "print(x1)\n",
    "\n",
    "print()\n",
    "\n",
    "x2 = la.inv(A2)@b\n",
    "print(\"Solution to A2\")\n",
    "print(x2)\n",
    "\n",
    "print()\n",
    "\n",
    "x3 = la.inv(A3)@b\n",
    "print(\"Solution to A3\")\n",
    "print(x3)\n",
    "\n",
    "print()\n",
    "\n",
    "# Alter column vector 'b'\n",
    "b_altered = np.array([[1.1],[2],[3],[4]])\n",
    "\n",
    "# Solve for 'x' again\n",
    "new_x1 = la.inv(A1)@b_altered\n",
    "print(\"New solution to A1\")\n",
    "print(new_x1)\n",
    "\n",
    "print()\n",
    "\n",
    "new_x2 = la.inv(A2)@b_altered\n",
    "print(\"New solution to A2\")\n",
    "print(new_x2)\n",
    "\n",
    "new_x3 = la.inv(A3)@b_altered\n",
    "print(\"New solution to A3\")\n",
    "print(new_x3)"
   ]
  },
  {
   "cell_type": "markdown",
   "metadata": {},
   "source": [
    "$Answer:$ From comparing the solutions above, A1 is clearly ill-conditioned since a slight change in 'b' gave a large change in 'x'. The significant change in the (3,1) entry in A2 tells us that A2 is also ill-conditioned"
   ]
  },
  {
   "cell_type": "code",
   "execution_count": 20,
   "metadata": {},
   "outputs": [
    {
     "ename": "SyntaxError",
     "evalue": "invalid syntax (<ipython-input-20-cb8344339afb>, line 3)",
     "output_type": "error",
     "traceback": [
      "\u001b[1;36m  File \u001b[1;32m\"<ipython-input-20-cb8344339afb>\"\u001b[1;36m, line \u001b[1;32m3\u001b[0m\n\u001b[1;33m    With $b = [1,2,3,4]$ and $\\delta b = [0.1,0,0,0]$ for $A1$ and $A2$ calculate the percentage change in $x$ due to a small change in $b$, i.e., calculate\u001b[0m\n\u001b[1;37m         ^\u001b[0m\n\u001b[1;31mSyntaxError\u001b[0m\u001b[1;31m:\u001b[0m invalid syntax\n"
     ]
    }
   ],
   "source": [
    "# Q3b\n",
    "\n",
    "With $b = [1,2,3,4]$ and $\\delta b = [0.1,0,0,0]$ for $A1$ and $A2$ calculate the percentage change in $x$ due to a small change in $b$, i.e., calculate \n",
    "\n",
    "$$100\\times\\frac{\\lVert \\delta x_i\\rVert_2}{\\lVert x_i \\rVert_2}\\quad\\text{and}\\quad 100\\times\\frac{\\lVert \\delta b\\rVert_2}{\\lVert b \\rVert_2}$$\n",
    "\n",
    "where $(x_i+\\delta x_i)  = A_i^{-1}(b+\\delta b)$ and $i\\in\\{1,2\\}$."
   ]
  },
  {
   "cell_type": "code",
   "execution_count": 21,
   "metadata": {},
   "outputs": [
    {
     "name": "stdout",
     "output_type": "stream",
     "text": [
      "0.1\n",
      "\n",
      "5.477225575051661\n",
      "\n",
      "Percentage change in 'b' = 1.8257418583505536 \n",
      "\n",
      "[[-74507366.21915984]\n",
      " [-37253685.82140911]\n",
      " [ 37253687.7088334 ]\n",
      " [ 37253684.21585298]]\n",
      "98563984.11061738\n",
      "\n",
      "[[-3.81940128e+08]\n",
      " [-1.90970064e+08]\n",
      " [ 1.90970064e+08]\n",
      " [ 1.90970064e+08]]\n",
      "505259296.4788094\n",
      "\n",
      "Percentange change in 'x' for matrix A1= 512.6206098890665\n",
      "\n",
      "[[-0.98741275]\n",
      " [ 4.08539139]\n",
      " [ 0.09204109]\n",
      " [ 1.40102595]]\n",
      "4.431337491585107\n",
      "\n",
      "[[ 0.20977688]\n",
      " [-0.14917393]\n",
      " [ 0.3493688 ]\n",
      " [-0.16583406]]\n",
      "0.4645629093910389\n",
      "\n",
      "Percentage change in 'x' for A2 = 10.483582220339144\n"
     ]
    }
   ],
   "source": [
    "b = np.array([[1],[2],[3],[4]])\n",
    "delta_b = np.array([[0.1],[0],[0],[0]])\n",
    "\n",
    "delta_b_L2_norm = la.norm(delta_b,2)\n",
    "print(delta_b_L2_norm)\n",
    "\n",
    "print()\n",
    "\n",
    "b_L2_norm = la.norm(b,2)\n",
    "print(b_L2_norm)\n",
    "\n",
    "print()\n",
    "\n",
    "# To find percentage change in b\n",
    "print(\"Percentage change in 'b' = %s \" %(100*(delta_b_L2_norm/b_L2_norm)))\n",
    " \n",
    "print()\n",
    "\n",
    "# Solution of 'x' for A1 from part 3(a) \n",
    "print(x1)\n",
    "x1_L2_norm = la.norm(x1,2)\n",
    "print(la.norm(x1,2))\n",
    "\n",
    "print()\n",
    "\n",
    "# Finding delta x for A1\n",
    "delta_x1 = new_x1 - x1\n",
    "print(delta_x1)\n",
    "delta_x1_L2_norm = la.norm(delta_x1,2)\n",
    "print(delta_x1_L2_norm)\n",
    "\n",
    "print()\n",
    "\n",
    "# Percentage change in 'x' for A1 \n",
    "print(\"Percentange change in 'x' for matrix A1= %s\" % (100*(delta_x1_L2_norm/x1_L2_norm)))\n",
    "\n",
    "print()\n",
    "\n",
    "# Do a similar process to find percentange change in 'x' for A2\n",
    "print(x2)\n",
    "x2_L2_norm = la.norm(x2,2)\n",
    "print(x2_L2_norm)\n",
    "\n",
    "print()\n",
    "\n",
    "delta_x2 = new_x2 - x2\n",
    "print(delta_x2)\n",
    "delta_x2_L2_norm = la.norm(delta_x2,2)\n",
    "print(delta_x2_L2_norm)\n",
    "\n",
    "print()\n",
    "\n",
    "print(\"Percentage change in 'x' for A2 = %s\" % (100*(delta_x2_L2_norm/x2_L2_norm)))"
   ]
  },
  {
   "cell_type": "markdown",
   "metadata": {},
   "source": [
    "Which system of equations is more sensitive to small changes in $b$? How could you have guessed this from the answer to the Q3a?"
   ]
  },
  {
   "cell_type": "markdown",
   "metadata": {},
   "source": [
    "$Answer:$ The matrix A1 is more sensitive to small changes in b as we can see from the percentages above. This answer could have been guessed in part (a) of this question by looking at how much the solution to A1 changed just by slightly adjusting an entry of 'b' by 0.1. "
   ]
  },
  {
   "cell_type": "markdown",
   "metadata": {},
   "source": [
    "Commit your notebook to git and push it to GitHub.\n",
    "\n",
    "# Question 4: eigensystems\n",
    "\n",
    "In this question we look at finding eigenvalues and eigenvectors\n",
    "\n",
    "## Q4a\n",
    "\n",
    "You may use any of NumPy's functions for this sub-question.\n",
    "\n",
    "Find the eigenvalues and eigenvectors for the below matrix. Print out the eigenvalues sorted by descending value and explicitly show that eigenvalues/eigenvector pairs satisfy $Ax = \\lambda x$."
   ]
  },
  {
   "cell_type": "code",
   "execution_count": 22,
   "metadata": {},
   "outputs": [],
   "source": [
    "A = np.array([[1,4,5],[4,5,4],[6,7,9]])"
   ]
  },
  {
   "cell_type": "code",
   "execution_count": 23,
   "metadata": {},
   "outputs": [
    {
     "name": "stdout",
     "output_type": "stream",
     "text": [
      "Eigenvalues =  [15.78569318 -2.05164645  1.26595327]\n",
      "Eigenvectors = \n",
      "  [[-0.39252008 -0.89589878  0.09818766]\n",
      " [-0.44424151  0.36255198 -0.77454142]\n",
      " [-0.80534308  0.25675168  0.6248558 ]]\n"
     ]
    }
   ],
   "source": [
    "Eigensystems = la.eig(A)\n",
    "print(\"Eigenvalues = \", (Eigensystems[0]))\n",
    "print(\"Eigenvectors = \\n \", (Eigensystems[1]))"
   ]
  },
  {
   "cell_type": "code",
   "execution_count": 24,
   "metadata": {},
   "outputs": [
    {
     "name": "stdout",
     "output_type": "stream",
     "text": [
      "[ -6.1962015   -7.01266016 -12.71289871]\n",
      "[ -6.1962015   -7.01266016 -12.71289871]\n"
     ]
    }
   ],
   "source": [
    "# Showing that the first eigenvalue and corresponding eigenvector satisfies equation\n",
    "Eigenvalue1 = Eigensystems[0][0]\n",
    "Eigenvector1 = Eigensystems[1][:,0]\n",
    "print(A@Eigenvector1)\n",
    "print(Eigenvalue1*Eigenvector1)"
   ]
  },
  {
   "cell_type": "code",
   "execution_count": 25,
   "metadata": {},
   "outputs": [
    {
     "name": "stdout",
     "output_type": "stream",
     "text": [
      "[ 1.83806756 -0.74382849 -0.52676368]\n",
      "[ 1.83806756 -0.74382849 -0.52676368]\n"
     ]
    }
   ],
   "source": [
    "# Showing that the second eigenvalue and corresponding eigenvector satisfies equation \n",
    "Eigenvalue2 = Eigensystems[0][1]\n",
    "Eigenvector2 = Eigensystems[1][:,1]\n",
    "print(A@Eigenvector2)\n",
    "print(Eigenvalue2*Eigenvector2)"
   ]
  },
  {
   "cell_type": "code",
   "execution_count": 26,
   "metadata": {},
   "outputs": [
    {
     "name": "stdout",
     "output_type": "stream",
     "text": [
      "[ 0.12430099 -0.98053324  0.79103825]\n",
      "[ 0.12430099 -0.98053324  0.79103825]\n"
     ]
    }
   ],
   "source": [
    "# Showing that the third eigenvalue and corresponding eigenvector satsifies equation\n",
    "Eigenvalue3 = Eigensystems[0][2]\n",
    "Eigenvector3 = Eigensystems[1][:,2]\n",
    "print(A@Eigenvector3)\n",
    "print(Eigenvalue3*Eigenvector3)"
   ]
  },
  {
   "cell_type": "markdown",
   "metadata": {},
   "source": [
    "# Q4b\n",
    "\n",
    "Without using NumPy's `la.eig()` (or similar functions), find the 4 eigenvalues and eigenvectors of the following matrix. Hint: Use the power method for the max eigenvalue (given below in `MaxEigenvalue`), the power method applied to the inverse for the smallest eigenvalue, and apply Hotelling's deflation twice to find the second and third eigenvalues/eigenvectors."
   ]
  },
  {
   "cell_type": "code",
   "execution_count": 29,
   "metadata": {},
   "outputs": [],
   "source": [
    "A = np.array([[2.65287619, 1.58615494, 1.47170961, 1.40586081],\n",
    "       [1.58615494, 1.17577323, 0.72084593, 0.79382861],\n",
    "       [1.47170961, 0.72084593, 1.18111969, 0.6654689 ],\n",
    "       [1.40586081, 0.79382861, 0.6654689 , 0.84502394]])"
   ]
  },
  {
   "cell_type": "code",
   "execution_count": 30,
   "metadata": {},
   "outputs": [
    {
     "name": "stdout",
     "output_type": "stream",
     "text": [
      "[[2.65287619 1.58615494 1.47170961 1.40586081]\n",
      " [1.58615494 1.17577323 0.72084593 0.79382861]\n",
      " [1.47170961 0.72084593 1.18111969 0.6654689 ]\n",
      " [1.40586081 0.79382861 0.6654689  0.84502394]]\n",
      "\n",
      "[[2.65287619 1.58615494 1.47170961 1.40586081]\n",
      " [1.58615494 1.17577323 0.72084593 0.79382861]\n",
      " [1.47170961 0.72084593 1.18111969 0.6654689 ]\n",
      " [1.40586081 0.79382861 0.6654689  0.84502394]]\n"
     ]
    }
   ],
   "source": [
    "# Check if A is symmetric, by checking if A is equal to its transpose\n",
    "print(A)\n",
    "\n",
    "print()\n",
    "\n",
    "print(TransposeMatrix(A,4)) "
   ]
  },
  {
   "cell_type": "markdown",
   "metadata": {},
   "source": [
    "From this we can see that A is symmetric and so we can use the power method"
   ]
  },
  {
   "cell_type": "code",
   "execution_count": 31,
   "metadata": {},
   "outputs": [
    {
     "name": "stdout",
     "output_type": "stream",
     "text": [
      "Largest Eigenvalue =  5.172971199844755\n",
      "Eigenvector for largest eigenvalue =  [0.71538265 0.43087578 0.40381884 0.37350243]\n",
      "\n",
      "Smallest eigenvalue = 0.0015297971635957433\n",
      "Eigenvector for smallest eigenvalue =  [-1.46409607  2.87332737  3.04838083  1.81144553]\n",
      "\n",
      "Second Largest Eigenvalue = 0.4816692703106543\n",
      "Eigenvector for second largest eigenvalue =  [-0.04054567 -0.52331842  0.82477029 -0.21035172]\n",
      "\n",
      "Third eigenvalue =  0.9633385406213082\n",
      "Eigenvector for third eigenvalue =  [-0.04054567 -0.52331843  0.82477029 -0.2103517 ]\n"
     ]
    }
   ],
   "source": [
    "def MaxEigenvalue(A, err):\n",
    "    (m,n) = A.shape\n",
    "    if(m != n):\n",
    "        print(\"Matrix must be square\")\n",
    "        return\n",
    "    \n",
    "    # Create a random initial vector\n",
    "    x = np.random.rand(m)\n",
    "    \n",
    "    lam = 0.1\n",
    "    lamprev = 1\n",
    "    while np.abs(1-lam/lamprev) > err:\n",
    "        Ax      = A@x\n",
    "        lamprev = lam\n",
    "        lam = la.norm(Ax,2)/la.norm(x,2)\n",
    "        x = Ax\n",
    "        \n",
    "    x = x/la.norm(x)\n",
    "    return (lam,x)\n",
    "\n",
    "# Largest eigenvalue with largest eigenvector\n",
    "print('Largest Eigenvalue = ', MaxEigenvalue(A,1e-14)[0])\n",
    "print('Eigenvector for largest eigenvalue = ', MaxEigenvalue(A,1e-14)[1])\n",
    "\n",
    "print()\n",
    "\n",
    "# For smallest eigenvalue and corresponding eigenvector, use power method on inverse of A.\n",
    "print('Smallest eigenvalue =', 1/MaxEigenvalue(la.inv(A), 1e-14)[0])\n",
    "print('Eigenvector for smallest eigenvalue = ', 1/MaxEigenvalue(la.inv(A), 1e-14)[1])\n",
    "\n",
    "print()\n",
    "\n",
    "# To find second largest eigenvalue and corresponding eigenvector, use Hotelling's deflation. Largest eigenvalue of B will be second largest eigenvalue of A.\n",
    "B = A - MaxEigenvalue(A,1e-14)[0]*np.outer(MaxEigenvalue(A,1e-14)[1],MaxEigenvalue(A,1e-14)[1])\n",
    "print('Second Largest Eigenvalue =', MaxEigenvalue(B, 1e-14)[0])\n",
    "print('Eigenvector for second largest eigenvalue = ', MaxEigenvalue(B, 1e-14)[1])\n",
    "\n",
    "print()\n",
    "\n",
    "# To find the third eigenvalue and corresponding eigenvector, use Hotelling's deflation again on B\n",
    "C = B - MaxEigenvalue(B, 1e-14)[0]*np.outer(MaxEigenvalue(B, 1e-14)[1], MaxEigenvalue(B, 1e-14)[1])\n",
    "print('Third eigenvalue = ', MaxEigenvalue(C, 1e-14)[0])\n",
    "print('Eigenvector for third eigenvalue = ', MaxEigenvalue(C, 1e-14)[1])"
   ]
  },
  {
   "cell_type": "markdown",
   "metadata": {},
   "source": [
    "Check your answers against Numpy's results from `la.eig(A)`"
   ]
  },
  {
   "cell_type": "code",
   "execution_count": 32,
   "metadata": {},
   "outputs": [
    {
     "data": {
      "text/plain": [
       "(array([5.17297120e+00, 1.52979716e-03, 1.98622783e-01, 4.81669270e-01]),\n",
       " array([[ 0.71538265,  0.68301529,  0.14168212, -0.04054567],\n",
       "        [ 0.43087578, -0.34802856, -0.64758011, -0.52331842],\n",
       "        [ 0.40381884, -0.328043  , -0.22152224,  0.82477029],\n",
       "        [ 0.37350243, -0.55204531,  0.71518814, -0.21035171]]))"
      ]
     },
     "execution_count": 32,
     "metadata": {},
     "output_type": "execute_result"
    }
   ],
   "source": [
    "la.eig(A)"
   ]
  },
  {
   "cell_type": "markdown",
   "metadata": {},
   "source": [
    "Commit your notebook to git and push it to GitHub. Upload your completed assignment to BrightSpace."
   ]
  }
 ],
 "metadata": {
  "kernelspec": {
   "display_name": "Python 3",
   "language": "python",
   "name": "python3"
  },
  "language_info": {
   "codemirror_mode": {
    "name": "ipython",
    "version": 3
   },
   "file_extension": ".py",
   "mimetype": "text/x-python",
   "name": "python",
   "nbconvert_exporter": "python",
   "pygments_lexer": "ipython3",
   "version": "3.8.3"
  }
 },
 "nbformat": 4,
 "nbformat_minor": 2
}
